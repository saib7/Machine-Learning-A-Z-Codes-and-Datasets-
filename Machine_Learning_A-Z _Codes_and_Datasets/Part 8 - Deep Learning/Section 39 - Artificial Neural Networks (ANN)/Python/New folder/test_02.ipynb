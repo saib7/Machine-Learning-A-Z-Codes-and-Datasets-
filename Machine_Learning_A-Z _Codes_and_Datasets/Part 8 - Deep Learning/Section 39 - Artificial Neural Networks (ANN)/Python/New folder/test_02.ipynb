{
 "cells": [
  {
   "cell_type": "code",
   "execution_count": 1,
   "id": "74d9ed55",
   "metadata": {},
   "outputs": [],
   "source": [
    "import numpy as np\n",
    "import pandas as pd\n",
    "import matplotlib.pyplot as plt\n",
    "%matplotlib inline\n",
    "import tensorflow as tf"
   ]
  },
  {
   "cell_type": "code",
   "execution_count": 2,
   "id": "ed7d39ca",
   "metadata": {},
   "outputs": [
    {
     "data": {
      "text/plain": [
       "'2.4.1'"
      ]
     },
     "execution_count": 2,
     "metadata": {},
     "output_type": "execute_result"
    }
   ],
   "source": [
    "tf.__version__"
   ]
  },
  {
   "cell_type": "markdown",
   "id": "57bda792",
   "metadata": {},
   "source": [
    "dataset = pd.read_excel(\"Folds5x2_pp.xlsx\")\n",
    "dataset.head()"
   ]
  },
  {
   "cell_type": "code",
   "execution_count": 8,
   "id": "fbb71145",
   "metadata": {},
   "outputs": [
    {
     "data": {
      "text/html": [
       "<div>\n",
       "<style scoped>\n",
       "    .dataframe tbody tr th:only-of-type {\n",
       "        vertical-align: middle;\n",
       "    }\n",
       "\n",
       "    .dataframe tbody tr th {\n",
       "        vertical-align: top;\n",
       "    }\n",
       "\n",
       "    .dataframe thead th {\n",
       "        text-align: right;\n",
       "    }\n",
       "</style>\n",
       "<table border=\"1\" class=\"dataframe\">\n",
       "  <thead>\n",
       "    <tr style=\"text-align: right;\">\n",
       "      <th></th>\n",
       "      <th>AT</th>\n",
       "      <th>V</th>\n",
       "      <th>AP</th>\n",
       "      <th>RH</th>\n",
       "      <th>PE</th>\n",
       "    </tr>\n",
       "  </thead>\n",
       "  <tbody>\n",
       "    <tr>\n",
       "      <th>0</th>\n",
       "      <td>14.96</td>\n",
       "      <td>41.76</td>\n",
       "      <td>1024.07</td>\n",
       "      <td>73.17</td>\n",
       "      <td>463.26</td>\n",
       "    </tr>\n",
       "    <tr>\n",
       "      <th>1</th>\n",
       "      <td>25.18</td>\n",
       "      <td>62.96</td>\n",
       "      <td>1020.04</td>\n",
       "      <td>59.08</td>\n",
       "      <td>444.37</td>\n",
       "    </tr>\n",
       "    <tr>\n",
       "      <th>2</th>\n",
       "      <td>5.11</td>\n",
       "      <td>39.40</td>\n",
       "      <td>1012.16</td>\n",
       "      <td>92.14</td>\n",
       "      <td>488.56</td>\n",
       "    </tr>\n",
       "    <tr>\n",
       "      <th>3</th>\n",
       "      <td>20.86</td>\n",
       "      <td>57.32</td>\n",
       "      <td>1010.24</td>\n",
       "      <td>76.64</td>\n",
       "      <td>446.48</td>\n",
       "    </tr>\n",
       "    <tr>\n",
       "      <th>4</th>\n",
       "      <td>10.82</td>\n",
       "      <td>37.50</td>\n",
       "      <td>1009.23</td>\n",
       "      <td>96.62</td>\n",
       "      <td>473.90</td>\n",
       "    </tr>\n",
       "  </tbody>\n",
       "</table>\n",
       "</div>"
      ],
      "text/plain": [
       "      AT      V       AP     RH      PE\n",
       "0  14.96  41.76  1024.07  73.17  463.26\n",
       "1  25.18  62.96  1020.04  59.08  444.37\n",
       "2   5.11  39.40  1012.16  92.14  488.56\n",
       "3  20.86  57.32  1010.24  76.64  446.48\n",
       "4  10.82  37.50  1009.23  96.62  473.90"
      ]
     },
     "execution_count": 8,
     "metadata": {},
     "output_type": "execute_result"
    }
   ],
   "source": [
    "dataset = pd.read_excel(\"Folds5x2_pp.xlsx\")\n",
    "dataset.head()"
   ]
  },
  {
   "cell_type": "code",
   "execution_count": 9,
   "id": "5fb4be91",
   "metadata": {},
   "outputs": [],
   "source": [
    "X = dataset.iloc[:, :-1].values\n",
    "y = dataset.iloc[:, -1].values"
   ]
  },
  {
   "cell_type": "code",
   "execution_count": 10,
   "id": "c1505a6b",
   "metadata": {},
   "outputs": [
    {
     "name": "stdout",
     "output_type": "stream",
     "text": [
      "[[  14.96   41.76 1024.07   73.17]\n",
      " [  25.18   62.96 1020.04   59.08]\n",
      " [   5.11   39.4  1012.16   92.14]\n",
      " ...\n",
      " [  31.32   74.33 1012.92   36.48]\n",
      " [  24.48   69.45 1013.86   62.39]\n",
      " [  21.6    62.52 1017.23   67.87]]\n"
     ]
    }
   ],
   "source": [
    "print(X)"
   ]
  },
  {
   "cell_type": "code",
   "execution_count": 11,
   "id": "293b5eee",
   "metadata": {},
   "outputs": [
    {
     "name": "stdout",
     "output_type": "stream",
     "text": [
      "[463.26 444.37 488.56 ... 429.57 435.74 453.28]\n"
     ]
    }
   ],
   "source": [
    "print(y)"
   ]
  },
  {
   "cell_type": "code",
   "execution_count": 12,
   "id": "21f9e230",
   "metadata": {},
   "outputs": [],
   "source": [
    "from sklearn.model_selection import train_test_split\n",
    "X_train, X_test, y_train, y_test = train_test_split(X, y, test_size = 0.2, random_state = 3)"
   ]
  },
  {
   "cell_type": "code",
   "execution_count": 13,
   "id": "a6591a43",
   "metadata": {},
   "outputs": [
    {
     "name": "stdout",
     "output_type": "stream",
     "text": [
      "[[  31.54   77.24 1008.23   70.19]\n",
      " [  24.02   70.94 1008.     79.55]\n",
      " [   9.6    41.03 1021.01   69.03]\n",
      " ...\n",
      " [   6.14   39.4  1011.21   90.87]\n",
      " [  14.33   38.73 1003.52   85.92]\n",
      " [   9.73   41.01 1021.76   97.71]]\n"
     ]
    }
   ],
   "source": [
    "print(X_train)"
   ]
  },
  {
   "cell_type": "code",
   "execution_count": 14,
   "id": "108fcd27",
   "metadata": {},
   "outputs": [
    {
     "name": "stdout",
     "output_type": "stream",
     "text": [
      "[[  27.82   79.74 1008.37   69.46]\n",
      " [  29.01   66.44 1011.21   71.56]\n",
      " [  20.61   63.86 1015.43   73.86]\n",
      " ...\n",
      " [  18.98   60.1  1010.09   85.34]\n",
      " [  32.07   70.94 1006.91   49.9 ]\n",
      " [  14.91   40.73 1017.44   86.91]]\n"
     ]
    }
   ],
   "source": [
    "print(X_test)"
   ]
  },
  {
   "cell_type": "code",
   "execution_count": 15,
   "id": "29af60de",
   "metadata": {},
   "outputs": [],
   "source": [
    "ann = tf.keras.models.Sequential()"
   ]
  },
  {
   "cell_type": "code",
   "execution_count": 16,
   "id": "e4856008",
   "metadata": {},
   "outputs": [],
   "source": [
    "%config Completer.use_jedi = False"
   ]
  },
  {
   "cell_type": "code",
   "execution_count": 17,
   "id": "b9bfa6ea",
   "metadata": {},
   "outputs": [],
   "source": [
    "ann.add(tf.keras.layers.Dense(units=6, activation= 'relu'))"
   ]
  },
  {
   "cell_type": "code",
   "execution_count": 18,
   "id": "98ac79cf",
   "metadata": {},
   "outputs": [],
   "source": [
    "ann.add(tf.keras.layers.Dense(units=6, activation= 'relu'))"
   ]
  },
  {
   "cell_type": "code",
   "execution_count": 19,
   "id": "0e4352aa",
   "metadata": {},
   "outputs": [],
   "source": [
    "ann.add(tf.keras.layers.Dense(units=1))"
   ]
  },
  {
   "cell_type": "code",
   "execution_count": 20,
   "id": "b94b32bb",
   "metadata": {},
   "outputs": [],
   "source": [
    "ann.compile(optimizer= 'adam', loss= 'mean_squared_error')"
   ]
  },
  {
   "cell_type": "code",
   "execution_count": 21,
   "id": "28c5f561",
   "metadata": {},
   "outputs": [
    {
     "name": "stdout",
     "output_type": "stream",
     "text": [
      "Epoch 1/100\n",
      "240/240 [==============================] - 1s 1ms/step - loss: 278927.1230\n",
      "Epoch 2/100\n",
      "240/240 [==============================] - 0s 1ms/step - loss: 23924.6256\n",
      "Epoch 3/100\n",
      "240/240 [==============================] - 0s 1ms/step - loss: 163.6192\n",
      "Epoch 4/100\n",
      "240/240 [==============================] - 0s 1ms/step - loss: 116.4188\n",
      "Epoch 5/100\n",
      "240/240 [==============================] - 0s 1ms/step - loss: 79.6273\n",
      "Epoch 6/100\n",
      "240/240 [==============================] - 0s 1ms/step - loss: 74.3644: 0s - loss: 74.54\n",
      "Epoch 7/100\n",
      "240/240 [==============================] - 0s 1ms/step - loss: 69.0470\n",
      "Epoch 8/100\n",
      "240/240 [==============================] - 0s 1ms/step - loss: 68.5156: 0s - loss: 68.62\n",
      "Epoch 9/100\n",
      "240/240 [==============================] - 0s 1ms/step - loss: 65.1052\n",
      "Epoch 10/100\n",
      "240/240 [==============================] - 0s 2ms/step - loss: 65.5766\n",
      "Epoch 11/100\n",
      "240/240 [==============================] - 0s 2ms/step - loss: 62.4779: 0s - los\n",
      "Epoch 12/100\n",
      "240/240 [==============================] - 0s 1ms/step - loss: 58.9175\n",
      "Epoch 13/100\n",
      "240/240 [==============================] - 0s 1ms/step - loss: 56.2540\n",
      "Epoch 14/100\n",
      "240/240 [==============================] - 0s 1ms/step - loss: 54.7503\n",
      "Epoch 15/100\n",
      "240/240 [==============================] - 0s 1ms/step - loss: 51.1151\n",
      "Epoch 16/100\n",
      "240/240 [==============================] - 0s 1ms/step - loss: 49.7518\n",
      "Epoch 17/100\n",
      "240/240 [==============================] - 0s 1ms/step - loss: 47.0874\n",
      "Epoch 18/100\n",
      "240/240 [==============================] - 0s 1ms/step - loss: 45.3531\n",
      "Epoch 19/100\n",
      "240/240 [==============================] - 0s 2ms/step - loss: 41.7048\n",
      "Epoch 20/100\n",
      "240/240 [==============================] - 0s 2ms/step - loss: 40.0188\n",
      "Epoch 21/100\n",
      "240/240 [==============================] - 0s 2ms/step - loss: 38.8455\n",
      "Epoch 22/100\n",
      "240/240 [==============================] - 0s 2ms/step - loss: 37.0592\n",
      "Epoch 23/100\n",
      "240/240 [==============================] - 0s 1ms/step - loss: 34.7857\n",
      "Epoch 24/100\n",
      "240/240 [==============================] - 0s 2ms/step - loss: 33.7351\n",
      "Epoch 25/100\n",
      "240/240 [==============================] - 1s 2ms/step - loss: 31.9219\n",
      "Epoch 26/100\n",
      "240/240 [==============================] - 0s 1ms/step - loss: 31.8832\n",
      "Epoch 27/100\n",
      "240/240 [==============================] - 0s 1ms/step - loss: 30.9569\n",
      "Epoch 28/100\n",
      "240/240 [==============================] - 0s 1ms/step - loss: 29.1262\n",
      "Epoch 29/100\n",
      "240/240 [==============================] - 0s 1ms/step - loss: 29.7444\n",
      "Epoch 30/100\n",
      "240/240 [==============================] - 0s 1ms/step - loss: 29.6975\n",
      "Epoch 31/100\n",
      "240/240 [==============================] - 0s 1ms/step - loss: 29.1744\n",
      "Epoch 32/100\n",
      "240/240 [==============================] - 0s 2ms/step - loss: 28.3521\n",
      "Epoch 33/100\n",
      "240/240 [==============================] - 0s 2ms/step - loss: 28.0818: 0s - loss: 28.\n",
      "Epoch 34/100\n",
      "240/240 [==============================] - 1s 2ms/step - loss: 28.8518\n",
      "Epoch 35/100\n",
      "240/240 [==============================] - 1s 2ms/step - loss: 28.3565: 0s - loss: 28.\n",
      "Epoch 36/100\n",
      "240/240 [==============================] - 1s 2ms/step - loss: 28.0687\n",
      "Epoch 37/100\n",
      "240/240 [==============================] - 0s 1ms/step - loss: 27.7905\n",
      "Epoch 38/100\n",
      "240/240 [==============================] - 0s 1ms/step - loss: 27.2030\n",
      "Epoch 39/100\n",
      "240/240 [==============================] - 0s 2ms/step - loss: 27.2428\n",
      "Epoch 40/100\n",
      "240/240 [==============================] - 0s 1ms/step - loss: 27.4641\n",
      "Epoch 41/100\n",
      "240/240 [==============================] - 0s 1ms/step - loss: 28.1689\n",
      "Epoch 42/100\n",
      "240/240 [==============================] - 0s 1ms/step - loss: 27.1087\n",
      "Epoch 43/100\n",
      "240/240 [==============================] - 0s 1ms/step - loss: 27.4295\n",
      "Epoch 44/100\n",
      "240/240 [==============================] - 0s 1ms/step - loss: 26.1586\n",
      "Epoch 45/100\n",
      "240/240 [==============================] - 0s 2ms/step - loss: 27.6542\n",
      "Epoch 46/100\n",
      "240/240 [==============================] - 0s 1ms/step - loss: 26.0348\n",
      "Epoch 47/100\n",
      "240/240 [==============================] - 1s 2ms/step - loss: 28.2926\n",
      "Epoch 48/100\n",
      "240/240 [==============================] - 0s 2ms/step - loss: 26.2138\n",
      "Epoch 49/100\n",
      "240/240 [==============================] - 0s 2ms/step - loss: 26.6111\n",
      "Epoch 50/100\n",
      "240/240 [==============================] - 0s 1ms/step - loss: 27.1210\n",
      "Epoch 51/100\n",
      "240/240 [==============================] - 0s 1ms/step - loss: 27.1065\n",
      "Epoch 52/100\n",
      "240/240 [==============================] - 0s 1ms/step - loss: 27.9700\n",
      "Epoch 53/100\n",
      "240/240 [==============================] - 0s 1ms/step - loss: 26.8922\n",
      "Epoch 54/100\n",
      "240/240 [==============================] - 0s 1ms/step - loss: 25.3821\n",
      "Epoch 55/100\n",
      "240/240 [==============================] - 0s 1ms/step - loss: 27.8741\n",
      "Epoch 56/100\n",
      "240/240 [==============================] - 0s 1ms/step - loss: 26.3326\n",
      "Epoch 57/100\n",
      "240/240 [==============================] - 0s 1ms/step - loss: 26.4765\n",
      "Epoch 58/100\n",
      "240/240 [==============================] - 0s 1ms/step - loss: 26.6181\n",
      "Epoch 59/100\n",
      "240/240 [==============================] - 0s 1ms/step - loss: 26.8321\n",
      "Epoch 60/100\n",
      "240/240 [==============================] - 0s 1ms/step - loss: 26.3953\n",
      "Epoch 61/100\n",
      "240/240 [==============================] - 0s 1ms/step - loss: 28.1451\n",
      "Epoch 62/100\n",
      "240/240 [==============================] - 0s 1ms/step - loss: 27.1195\n",
      "Epoch 63/100\n",
      "240/240 [==============================] - 0s 1ms/step - loss: 26.7543\n",
      "Epoch 64/100\n",
      "240/240 [==============================] - 0s 1ms/step - loss: 26.7905\n",
      "Epoch 65/100\n",
      "240/240 [==============================] - 0s 2ms/step - loss: 28.1031\n",
      "Epoch 66/100\n",
      "240/240 [==============================] - 0s 1ms/step - loss: 25.5338\n",
      "Epoch 67/100\n",
      "240/240 [==============================] - 0s 1ms/step - loss: 27.5985\n",
      "Epoch 68/100\n",
      "240/240 [==============================] - 0s 1ms/step - loss: 25.7729\n",
      "Epoch 69/100\n",
      "240/240 [==============================] - 1s 2ms/step - loss: 27.2803\n",
      "Epoch 70/100\n",
      "240/240 [==============================] - 0s 1ms/step - loss: 25.9233\n",
      "Epoch 71/100\n",
      "240/240 [==============================] - 0s 2ms/step - loss: 27.5017\n",
      "Epoch 72/100\n",
      "240/240 [==============================] - 0s 1ms/step - loss: 26.3511\n",
      "Epoch 73/100\n",
      "240/240 [==============================] - 0s 1ms/step - loss: 25.4615: 0s - los\n",
      "Epoch 74/100\n",
      "240/240 [==============================] - 0s 1ms/step - loss: 25.8015\n",
      "Epoch 75/100\n",
      "240/240 [==============================] - 0s 2ms/step - loss: 26.3231\n",
      "Epoch 76/100\n",
      "240/240 [==============================] - 0s 2ms/step - loss: 26.8971\n",
      "Epoch 77/100\n",
      "240/240 [==============================] - 1s 2ms/step - loss: 27.0883: 0s - l\n",
      "Epoch 78/100\n",
      "240/240 [==============================] - 0s 2ms/step - loss: 27.2730\n",
      "Epoch 79/100\n",
      "240/240 [==============================] - 0s 2ms/step - loss: 25.8668\n",
      "Epoch 80/100\n",
      "240/240 [==============================] - 0s 2ms/step - loss: 26.5987\n",
      "Epoch 81/100\n",
      "240/240 [==============================] - ETA: 0s - loss: 26.71 - 0s 2ms/step - loss: 26.7155\n",
      "Epoch 82/100\n",
      "240/240 [==============================] - 0s 2ms/step - loss: 25.7437\n",
      "Epoch 83/100\n",
      "240/240 [==============================] - 0s 1ms/step - loss: 26.3027\n",
      "Epoch 84/100\n",
      "240/240 [==============================] - 0s 1ms/step - loss: 27.2928\n",
      "Epoch 85/100\n",
      "240/240 [==============================] - 0s 1ms/step - loss: 26.6074\n",
      "Epoch 86/100\n",
      "240/240 [==============================] - 0s 1ms/step - loss: 27.3489\n",
      "Epoch 87/100\n",
      "240/240 [==============================] - 0s 1ms/step - loss: 27.3278: 0s - loss:\n",
      "Epoch 88/100\n",
      "240/240 [==============================] - 0s 1ms/step - loss: 26.3278\n",
      "Epoch 89/100\n",
      "240/240 [==============================] - 0s 1ms/step - loss: 27.3573\n",
      "Epoch 90/100\n",
      "240/240 [==============================] - 0s 1ms/step - loss: 25.5776: 0s - loss: 25.56\n",
      "Epoch 91/100\n",
      "240/240 [==============================] - 0s 1ms/step - loss: 26.7622\n",
      "Epoch 92/100\n",
      "240/240 [==============================] - 0s 1ms/step - loss: 26.9115\n",
      "Epoch 93/100\n",
      "240/240 [==============================] - 0s 1ms/step - loss: 28.9269\n",
      "Epoch 94/100\n",
      "240/240 [==============================] - 0s 1ms/step - loss: 26.4380\n",
      "Epoch 95/100\n",
      "240/240 [==============================] - 0s 1ms/step - loss: 25.8667\n",
      "Epoch 96/100\n"
     ]
    },
    {
     "name": "stdout",
     "output_type": "stream",
     "text": [
      "240/240 [==============================] - 0s 1ms/step - loss: 26.3143\n",
      "Epoch 97/100\n",
      "240/240 [==============================] - 0s 2ms/step - loss: 28.3781\n",
      "Epoch 98/100\n",
      "240/240 [==============================] - 0s 1ms/step - loss: 27.2588\n",
      "Epoch 99/100\n",
      "240/240 [==============================] - 0s 1ms/step - loss: 27.6011\n",
      "Epoch 100/100\n",
      "240/240 [==============================] - 0s 1ms/step - loss: 27.7263\n"
     ]
    },
    {
     "data": {
      "text/plain": [
       "<tensorflow.python.keras.callbacks.History at 0x20946c906d0>"
      ]
     },
     "execution_count": 21,
     "metadata": {},
     "output_type": "execute_result"
    }
   ],
   "source": [
    "ann.fit(X_train, y_train, batch_size= 32, epochs= 100)"
   ]
  },
  {
   "cell_type": "code",
   "execution_count": 22,
   "id": "d7c9375e",
   "metadata": {},
   "outputs": [
    {
     "name": "stdout",
     "output_type": "stream",
     "text": [
      "[[431.14 436.48]\n",
      " [434.13 430.61]\n",
      " [450.69 446.34]\n",
      " ...\n",
      " [450.6  453.37]\n",
      " [427.84 432.33]\n",
      " [466.36 458.99]]\n"
     ]
    }
   ],
   "source": [
    "y_pred = ann.predict(X_test)\n",
    "np.set_printoptions(precision=2)\n",
    "print(np.concatenate((y_pred.reshape(len(y_pred),1), y_test.reshape(len(y_test),1)),1))"
   ]
  },
  {
   "cell_type": "code",
   "execution_count": 24,
   "id": "b96844cb",
   "metadata": {},
   "outputs": [
    {
     "name": "stdout",
     "output_type": "stream",
     "text": [
      "0.9111551011016958\n"
     ]
    }
   ],
   "source": [
    "from sklearn.metrics import r2_score\n",
    "print(r2_score(y_test, y_pred))"
   ]
  },
  {
   "cell_type": "code",
   "execution_count": null,
   "id": "92c4ad8d",
   "metadata": {},
   "outputs": [],
   "source": []
  }
 ],
 "metadata": {
  "kernelspec": {
   "display_name": "Python 3",
   "language": "python",
   "name": "python3"
  },
  "language_info": {
   "codemirror_mode": {
    "name": "ipython",
    "version": 3
   },
   "file_extension": ".py",
   "mimetype": "text/x-python",
   "name": "python",
   "nbconvert_exporter": "python",
   "pygments_lexer": "ipython3",
   "version": "3.8.8"
  }
 },
 "nbformat": 4,
 "nbformat_minor": 5
}
