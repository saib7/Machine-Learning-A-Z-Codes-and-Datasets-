{
 "cells": [
  {
   "cell_type": "code",
   "execution_count": 6,
   "id": "b1d0d140",
   "metadata": {},
   "outputs": [],
   "source": [
    "import tensorflow as tf\n",
    "from tensorflow.keras.preprocessing.image import ImageDataGenerator"
   ]
  },
  {
   "cell_type": "code",
   "execution_count": 7,
   "id": "c1c0ff3f",
   "metadata": {},
   "outputs": [],
   "source": [
    "%config Completer.use_jedi = False"
   ]
  },
  {
   "cell_type": "code",
   "execution_count": 8,
   "id": "6ff56481",
   "metadata": {},
   "outputs": [
    {
     "data": {
      "text/plain": [
       "'2.4.1'"
      ]
     },
     "execution_count": 8,
     "metadata": {},
     "output_type": "execute_result"
    }
   ],
   "source": [
    "tf.__version__"
   ]
  },
  {
   "cell_type": "markdown",
   "id": "f2eea64a",
   "metadata": {},
   "source": [
    "Preprocessing the training set"
   ]
  },
  {
   "cell_type": "code",
   "execution_count": 10,
   "id": "ae013b80",
   "metadata": {},
   "outputs": [
    {
     "name": "stdout",
     "output_type": "stream",
     "text": [
      "Found 8000 images belonging to 2 classes.\n"
     ]
    }
   ],
   "source": [
    "train_datagen = ImageDataGenerator(\n",
    "        rescale=1./255,\n",
    "        shear_range=0.2,\n",
    "        zoom_range=0.2,\n",
    "        horizontal_flip=True)\n",
    "\n",
    "training_set = train_datagen.flow_from_directory(\n",
    "        'dataset/training_set',\n",
    "        target_size=(64, 64),\n",
    "        batch_size=32,\n",
    "        class_mode='binary')"
   ]
  },
  {
   "cell_type": "code",
   "execution_count": 11,
   "id": "ac5f151c",
   "metadata": {
    "scrolled": true
   },
   "outputs": [
    {
     "name": "stdout",
     "output_type": "stream",
     "text": [
      "Found 2000 images belonging to 2 classes.\n"
     ]
    }
   ],
   "source": [
    "test_datagen = ImageDataGenerator(rescale=1./255)\n",
    "\n",
    "test_dataset = test_datagen.flow_from_directory(\n",
    "        'dataset/test_set',\n",
    "        target_size=(64, 64),\n",
    "        batch_size=32,\n",
    "        class_mode='binary')\n"
   ]
  },
  {
   "cell_type": "code",
   "execution_count": 12,
   "id": "cf14b77c",
   "metadata": {},
   "outputs": [],
   "source": [
    "cnn = tf.keras.models.Sequential()"
   ]
  },
  {
   "cell_type": "code",
   "execution_count": 13,
   "id": "1bff84df",
   "metadata": {},
   "outputs": [],
   "source": [
    "cnn.add(tf.keras.layers.Conv2D(filters=32, kernel_size=3, activation='relu', input_shape = [64, 64, 3]))"
   ]
  },
  {
   "cell_type": "code",
   "execution_count": 14,
   "id": "48b31f3a",
   "metadata": {},
   "outputs": [],
   "source": [
    "cnn.add(tf.keras.layers.MaxPool2D(pool_size=2, strides=2))"
   ]
  },
  {
   "cell_type": "code",
   "execution_count": 15,
   "id": "7e3a268c",
   "metadata": {},
   "outputs": [],
   "source": [
    "cnn.add(tf.keras.layers.Conv2D(filters=32, kernel_size=3, activation='relu'))"
   ]
  },
  {
   "cell_type": "code",
   "execution_count": 16,
   "id": "ad1092e8",
   "metadata": {},
   "outputs": [],
   "source": [
    "cnn.add(tf.keras.layers.MaxPool2D(pool_size=2, strides=2))"
   ]
  },
  {
   "cell_type": "code",
   "execution_count": 17,
   "id": "f0d11bfe",
   "metadata": {},
   "outputs": [],
   "source": [
    "cnn.add(tf.keras.layers.Flatten())"
   ]
  },
  {
   "cell_type": "code",
   "execution_count": 18,
   "id": "ff09dcc1",
   "metadata": {},
   "outputs": [],
   "source": [
    "cnn.add(tf.keras.layers.Dense(units=128, activation='relu'))"
   ]
  },
  {
   "cell_type": "code",
   "execution_count": 19,
   "id": "6ed5fef3",
   "metadata": {},
   "outputs": [],
   "source": [
    "cnn.add(tf.keras.layers.Dense(units=1, activation='sigmoid'))"
   ]
  },
  {
   "cell_type": "code",
   "execution_count": 20,
   "id": "f51e2a1e",
   "metadata": {},
   "outputs": [],
   "source": [
    "#training the cnn\n",
    "cnn.compile(optimizer = 'adam', loss = 'binary_crossentropy', metrics = ['accuracy'])"
   ]
  },
  {
   "cell_type": "code",
   "execution_count": 22,
   "id": "dcc4d76d",
   "metadata": {},
   "outputs": [
    {
     "name": "stdout",
     "output_type": "stream",
     "text": [
      "Epoch 1/30\n",
      "250/250 [==============================] - 74s 274ms/step - loss: 0.7021 - accuracy: 0.5351 - val_loss: 0.6520 - val_accuracy: 0.6300\n",
      "Epoch 2/30\n",
      "250/250 [==============================] - 55s 209ms/step - loss: 0.6399 - accuracy: 0.6305 - val_loss: 0.5987 - val_accuracy: 0.7000\n",
      "Epoch 3/30\n",
      "250/250 [==============================] - 55s 208ms/step - loss: 0.5924 - accuracy: 0.6865 - val_loss: 0.5623 - val_accuracy: 0.7090\n",
      "Epoch 4/30\n",
      "250/250 [==============================] - 55s 209ms/step - loss: 0.5405 - accuracy: 0.7227 - val_loss: 0.5405 - val_accuracy: 0.7490\n",
      "Epoch 5/30\n",
      "250/250 [==============================] - 55s 208ms/step - loss: 0.5173 - accuracy: 0.7438 - val_loss: 0.5209 - val_accuracy: 0.7480\n",
      "Epoch 6/30\n",
      "250/250 [==============================] - 57s 216ms/step - loss: 0.5008 - accuracy: 0.7516 - val_loss: 0.4930 - val_accuracy: 0.7600\n",
      "Epoch 7/30\n",
      "250/250 [==============================] - 64s 246ms/step - loss: 0.4847 - accuracy: 0.7604 - val_loss: 0.4834 - val_accuracy: 0.7720\n",
      "Epoch 8/30\n",
      "250/250 [==============================] - 56s 212ms/step - loss: 0.4555 - accuracy: 0.7863 - val_loss: 0.5016 - val_accuracy: 0.7605\n",
      "Epoch 9/30\n",
      "250/250 [==============================] - 63s 241ms/step - loss: 0.4308 - accuracy: 0.7979 - val_loss: 0.4780 - val_accuracy: 0.7795\n",
      "Epoch 10/30\n",
      "250/250 [==============================] - 56s 211ms/step - loss: 0.4236 - accuracy: 0.8031 - val_loss: 0.4592 - val_accuracy: 0.7980\n",
      "Epoch 11/30\n",
      "250/250 [==============================] - 56s 213ms/step - loss: 0.4032 - accuracy: 0.8138 - val_loss: 0.4503 - val_accuracy: 0.7955\n",
      "Epoch 12/30\n",
      "250/250 [==============================] - 57s 215ms/step - loss: 0.3816 - accuracy: 0.8191 - val_loss: 0.4749 - val_accuracy: 0.7800\n",
      "Epoch 13/30\n",
      "250/250 [==============================] - 57s 216ms/step - loss: 0.3671 - accuracy: 0.8336 - val_loss: 0.4640 - val_accuracy: 0.7920\n",
      "Epoch 14/30\n",
      "250/250 [==============================] - 57s 217ms/step - loss: 0.3492 - accuracy: 0.8454 - val_loss: 0.4507 - val_accuracy: 0.7995\n",
      "Epoch 15/30\n",
      "250/250 [==============================] - 56s 211ms/step - loss: 0.3185 - accuracy: 0.8590 - val_loss: 0.4635 - val_accuracy: 0.8000\n",
      "Epoch 16/30\n",
      "250/250 [==============================] - 59s 224ms/step - loss: 0.3162 - accuracy: 0.8657 - val_loss: 0.4791 - val_accuracy: 0.8035\n",
      "Epoch 17/30\n",
      "250/250 [==============================] - 62s 235ms/step - loss: 0.3009 - accuracy: 0.8698 - val_loss: 0.4825 - val_accuracy: 0.8040\n",
      "Epoch 18/30\n",
      "250/250 [==============================] - 58s 220ms/step - loss: 0.2961 - accuracy: 0.8680 - val_loss: 0.4913 - val_accuracy: 0.7980\n",
      "Epoch 19/30\n",
      "250/250 [==============================] - 60s 229ms/step - loss: 0.2604 - accuracy: 0.8921 - val_loss: 0.5473 - val_accuracy: 0.7715\n",
      "Epoch 20/30\n",
      "250/250 [==============================] - 57s 217ms/step - loss: 0.2599 - accuracy: 0.8940 - val_loss: 0.5400 - val_accuracy: 0.7945\n",
      "Epoch 21/30\n",
      "250/250 [==============================] - 58s 220ms/step - loss: 0.2275 - accuracy: 0.9055 - val_loss: 0.5231 - val_accuracy: 0.7960\n",
      "Epoch 22/30\n",
      "250/250 [==============================] - 59s 223ms/step - loss: 0.2216 - accuracy: 0.9149 - val_loss: 0.5805 - val_accuracy: 0.7910\n",
      "Epoch 23/30\n",
      "250/250 [==============================] - 68s 259ms/step - loss: 0.2060 - accuracy: 0.9190 - val_loss: 0.5268 - val_accuracy: 0.8095\n",
      "Epoch 24/30\n",
      "250/250 [==============================] - 72s 274ms/step - loss: 0.1971 - accuracy: 0.9245 - val_loss: 0.5895 - val_accuracy: 0.7925\n",
      "Epoch 25/30\n",
      "250/250 [==============================] - 66s 251ms/step - loss: 0.1902 - accuracy: 0.9222 - val_loss: 0.5493 - val_accuracy: 0.8060\n",
      "Epoch 26/30\n",
      "250/250 [==============================] - 60s 226ms/step - loss: 0.1662 - accuracy: 0.9301 - val_loss: 0.5628 - val_accuracy: 0.8020\n",
      "Epoch 27/30\n",
      "250/250 [==============================] - 64s 243ms/step - loss: 0.1580 - accuracy: 0.9370 - val_loss: 0.5744 - val_accuracy: 0.7975\n",
      "Epoch 28/30\n",
      "250/250 [==============================] - 60s 227ms/step - loss: 0.1523 - accuracy: 0.9357 - val_loss: 0.5900 - val_accuracy: 0.8145\n",
      "Epoch 29/30\n",
      "250/250 [==============================] - 62s 234ms/step - loss: 0.1415 - accuracy: 0.9448 - val_loss: 0.5981 - val_accuracy: 0.8115\n",
      "Epoch 30/30\n",
      "250/250 [==============================] - 59s 222ms/step - loss: 0.1403 - accuracy: 0.9431 - val_loss: 0.6489 - val_accuracy: 0.7935\n"
     ]
    },
    {
     "data": {
      "text/plain": [
       "<tensorflow.python.keras.callbacks.History at 0x2128f366c10>"
      ]
     },
     "execution_count": 22,
     "metadata": {},
     "output_type": "execute_result"
    }
   ],
   "source": [
    "cnn.fit(x = training_set, validation_data = test_dataset, epochs = 30)"
   ]
  },
  {
   "cell_type": "code",
   "execution_count": 23,
   "id": "b0b26122",
   "metadata": {},
   "outputs": [],
   "source": [
    "import numpy as np\n",
    "from keras.preprocessing import image"
   ]
  },
  {
   "cell_type": "code",
   "execution_count": 26,
   "id": "9d21409d",
   "metadata": {},
   "outputs": [],
   "source": [
    "test_image = image.load_img('dataset\\single_prediction\\cat_or_dog_2.jpg', \n",
    "                           target_size = (64, 64))\n",
    "\n",
    "test_image = image.img_to_array(test_image)\n",
    "test_image = np.expand_dims(test_image, axis = 0)\n",
    "\n",
    "result = cnn.predict(test_image)\n",
    "training_set.class_indices\n",
    "\n",
    "if result[0][0] == 1:\n",
    "    prediction = 'DOG'\n",
    "else:\n",
    "    prediction = 'CAT'\n"
   ]
  },
  {
   "cell_type": "code",
   "execution_count": 27,
   "id": "2e973981",
   "metadata": {},
   "outputs": [
    {
     "name": "stdout",
     "output_type": "stream",
     "text": [
      "CAT\n"
     ]
    }
   ],
   "source": [
    "print(prediction)"
   ]
  },
  {
   "cell_type": "code",
   "execution_count": null,
   "id": "954cbb93",
   "metadata": {},
   "outputs": [],
   "source": []
  }
 ],
 "metadata": {
  "kernelspec": {
   "display_name": "Python 3",
   "language": "python",
   "name": "python3"
  },
  "language_info": {
   "codemirror_mode": {
    "name": "ipython",
    "version": 3
   },
   "file_extension": ".py",
   "mimetype": "text/x-python",
   "name": "python",
   "nbconvert_exporter": "python",
   "pygments_lexer": "ipython3",
   "version": "3.8.8"
  }
 },
 "nbformat": 4,
 "nbformat_minor": 5
}
